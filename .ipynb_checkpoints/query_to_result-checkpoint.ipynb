{
 "cells": [
  {
   "cell_type": "code",
   "execution_count": 1,
   "id": "f6bdca5b",
   "metadata": {},
   "outputs": [],
   "source": [
    "import pandas as pd\n",
    "import spacy\n",
    "import numpy as np\n",
    "from sklearn.feature_extraction.text import TfidfVectorizer\n",
    "from sklearn.metrics.pairwise import cosine_similarity\n",
    "from sklearn.preprocessing import StandardScaler\n",
    "import pickle"
   ]
  },
  {
   "cell_type": "code",
   "execution_count": 2,
   "id": "579f0669",
   "metadata": {},
   "outputs": [],
   "source": [
    "def process_query(query, nlp):\n",
    "    processed_query = ''\n",
    "    for word in nlp(query):\n",
    "        if word.text not in nlp.Defaults.stop_words:\n",
    "            processed_query += ' ' + word.lemma_.lower()\n",
    "    processed_query = processed_query.strip()\n",
    "    return processed_query\n",
    "\n",
    "def get_cosine_similarities(vectors, query_vector):\n",
    "    cosine = cosine_similarity(vectors, query_vector)\n",
    "    return cosine\n",
    "\n",
    "def n_largest(cosines, n):\n",
    "    n_largest_indexes = np.argpartition(cosines.flatten(), -n)[-n:]\n",
    "    largest_index_magnitude_dict = {}\n",
    "    \n",
    "    for i in n_largest_indexes:\n",
    "        if cosines.flatten()[i] not in largest_index_magnitude_dict.keys():\n",
    "            largest_index_magnitude_dict[cosines.flatten()[i]] = [i]\n",
    "        else:\n",
    "            largest_index_magnitude_dict[cosines.flatten()[i]].append(i)\n",
    "    \n",
    "    sorted_magnitudes = sorted(largest_index_magnitude_dict.keys(), reverse=True)\n",
    "    \n",
    "    indexes = []\n",
    "    for i in sorted_magnitudes:\n",
    "        indexes += largest_index_magnitude_dict[i]\n",
    "    \n",
    "    return indexes\n",
    "\n",
    "def get_n_largest_indexes(cosine, n):\n",
    "    if cosine.max() > 0:\n",
    "        return n_largest(cosine, n)\n",
    "    else:\n",
    "        return -1"
   ]
  },
  {
   "cell_type": "code",
   "execution_count": 3,
   "id": "67d6833d",
   "metadata": {},
   "outputs": [],
   "source": [
    "def get_relevant_links(nlp, query, vectorizer, vectors, links, normalizer, n):\n",
    "    processed_query = process_query(query, nlp)\n",
    "    query_vector = vectorizer.transform([processed_query])\n",
    "    query_vector = normalizer.transform(query_vector)\n",
    "    cosines = get_cosine_similarities(vectors, query_vector)\n",
    "    index = get_n_largest_indexes(cosines, n)\n",
    "    if index == -1:\n",
    "        return ['http://careers.humber.ca']\n",
    "    return list(np.array(links)[index])"
   ]
  },
  {
   "cell_type": "code",
   "execution_count": 4,
   "id": "02b57705",
   "metadata": {},
   "outputs": [],
   "source": [
    "with open(\"vectorizer.pk\", \"rb\") as openfile:\n",
    "    vectorizer = pickle.load(openfile)"
   ]
  },
  {
   "cell_type": "code",
   "execution_count": 5,
   "id": "995928ff",
   "metadata": {},
   "outputs": [],
   "source": [
    "with open(\"vectors.pk\", \"rb\") as openfile:\n",
    "    vectors = pickle.load(openfile)"
   ]
  },
  {
   "cell_type": "code",
   "execution_count": 6,
   "id": "63251451",
   "metadata": {},
   "outputs": [],
   "source": [
    "with open(\"links.pk\", \"rb\") as openfile:\n",
    "    links = pickle.load(openfile)"
   ]
  },
  {
   "cell_type": "code",
   "execution_count": 7,
   "id": "845942a2",
   "metadata": {},
   "outputs": [],
   "source": [
    "with open(\"normalizer.pk\", \"rb\") as openfile:\n",
    "    normalizer = pickle.load(openfile)"
   ]
  },
  {
   "cell_type": "code",
   "execution_count": 8,
   "id": "90dc415d",
   "metadata": {},
   "outputs": [],
   "source": [
    "with open(\"nlp.pk\", \"rb\") as openfile:\n",
    "    nlp = pickle.load(openfile)"
   ]
  },
  {
   "cell_type": "code",
   "execution_count": 9,
   "id": "6d5186b5",
   "metadata": {},
   "outputs": [
    {
     "data": {
      "text/plain": [
       "['https://careers.humber.ca/student-online-services.php',\n",
       " 'https://linktr.ee/advisingcareers',\n",
       " 'https://www.humber.ca/careeradvancement/',\n",
       " 'http://humber.ca/careeradvancement/career-development-sessions']"
      ]
     },
     "execution_count": 9,
     "metadata": {},
     "output_type": "execute_result"
    }
   ],
   "source": [
    "query = 'resume'\n",
    "get_relevant_links(nlp, query, vectorizer, vectors, links, normalizer, 4)"
   ]
  },
  {
   "cell_type": "code",
   "execution_count": 10,
   "id": "5f6a0cbd",
   "metadata": {},
   "outputs": [
    {
     "data": {
      "text/plain": [
       "['https://www.humber.ca/careeradvancement/',\n",
       " 'https://careers.humber.ca/career-steps-workshop.php',\n",
       " 'https://careers.humber.ca/events-workshops.php',\n",
       " 'http://humber.ca/careeradvancement/career-development-sessions']"
      ]
     },
     "execution_count": 10,
     "metadata": {},
     "output_type": "execute_result"
    }
   ],
   "source": [
    "query = 'how to create effective resume'\n",
    "get_relevant_links(nlp, query, vectorizer, vectors, links, normalizer, 4)"
   ]
  },
  {
   "cell_type": "code",
   "execution_count": 11,
   "id": "ca386218",
   "metadata": {},
   "outputs": [
    {
     "data": {
      "text/plain": [
       "['http://careers.humber.ca']"
      ]
     },
     "execution_count": 11,
     "metadata": {},
     "output_type": "execute_result"
    }
   ],
   "source": [
    "query = 'abcdef'\n",
    "get_relevant_links(nlp, query, vectorizer, vectors, links, normalizer, 4)"
   ]
  },
  {
   "cell_type": "code",
   "execution_count": null,
   "id": "47cf4cbe",
   "metadata": {},
   "outputs": [],
   "source": []
  }
 ],
 "metadata": {
  "kernelspec": {
   "display_name": "Python 3 (ipykernel)",
   "language": "python",
   "name": "python3"
  },
  "language_info": {
   "codemirror_mode": {
    "name": "ipython",
    "version": 3
   },
   "file_extension": ".py",
   "mimetype": "text/x-python",
   "name": "python",
   "nbconvert_exporter": "python",
   "pygments_lexer": "ipython3",
   "version": "3.11.7"
  }
 },
 "nbformat": 4,
 "nbformat_minor": 5
}
